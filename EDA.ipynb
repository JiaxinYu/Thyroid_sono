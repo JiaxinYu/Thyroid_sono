{
 "cells": [
  {
   "cell_type": "markdown",
   "metadata": {},
   "source": [
    "# DICOM header and EDA for Thyroid Sono"
   ]
  },
  {
   "cell_type": "code",
   "execution_count": 2,
   "metadata": {},
   "outputs": [],
   "source": [
    "import os\n",
    "import numpy as np\n",
    "import pandas as pd\n",
    "import matplotlib.pyplot as plt\n",
    "import pydicom\n",
    "\n",
    "%matplotlib inline"
   ]
  },
  {
   "cell_type": "markdown",
   "metadata": {},
   "source": [
    "## Load data"
   ]
  },
  {
   "cell_type": "code",
   "execution_count": 3,
   "metadata": {},
   "outputs": [],
   "source": [
    "cancer_df = pd.read_csv('/media/share/data/thyroid/subinfo/throidc2.csv')\n",
    "healthy_df = pd.read_csv('/media/share/data/thyroid/subinfo/throidh2.csv')"
   ]
  },
  {
   "cell_type": "code",
   "execution_count": 9,
   "metadata": {},
   "outputs": [
    {
     "data": {
      "text/plain": [
       "<matplotlib.axes._subplots.AxesSubplot at 0x7f90e9196eb8>"
      ]
     },
     "execution_count": 9,
     "metadata": {},
     "output_type": "execute_result"
    },
    {
     "data": {
      "image/png": "[encoded data removed]",
      "text/plain": [
       "<Figure size 432x288 with 1 Axes>"
      ]
     },
     "metadata": {},
     "output_type": "display_data"
    },
    {
     "data": {
      "image/png": "[encoded data removed]",
      "text/plain": [
       "<Figure size 432x288 with 1 Axes>"
      ]
     },
     "metadata": {},
     "output_type": "display_data"
    }
   ],
   "source": [
    "import seaborn as sns\n",
    "\n",
    "plt.figure()\n",
    "sns.countplot(sorted(cancer_df['Manufacturer']), saturation=2)\n",
    "\n",
    "plt.figure()\n",
    "sns.countplot(sorted(healthy_df['Manufacturer']), saturation=2)"
   ]
  },
  {
   "cell_type": "markdown",
   "metadata": {},
   "source": [
    "## Dicom Header Preprocess  \n",
    "    In above figures we found there are five types of sono equipments, we will then go further to find out if there is any issue needed to be solved before model training. \n",
    "\n",
    "### DICOM Header  \n",
    "    Dicom header contains all the information we need when processing dicom image. In the sono dataset we have, one dicom file may contain more than one sono images. \n",
    "<span style=\"color:red;\"> INFINITT & VBTEC Inc. </span> do not provide too much information in its dicom header, for deep learning porpose those files were excluded from the training data. Here are some information is critical for the image segmentation:  \n",
    "> __SequenceOfUltrasoundRegions__: how many images in the dicom image  \n",
    "> __RequestAttributesSequence__: same with above  \n",
    "> __RegionSpatialFormat__: 0 is colorbar, so we need **> 0** in here  \n",
    "> __RegionDataType__: color coding, 1 is binary, 2 is RGB  "
   ]
  },
  {
   "cell_type": "code",
   "execution_count": 27,
   "metadata": {},
   "outputs": [
    {
     "name": "stdout",
     "output_type": "stream",
     "text": [
      "cancer cases:  233\n",
      "healthy cases:  255\n"
     ]
    }
   ],
   "source": [
    "excl_manuf = ['INFINITT', 'VBTEC Inc.']\n",
    "\n",
    "# cancer\n",
    "clean_can01 = cancer_df[~cancer_df['Manufacturer'].isin(excl_manuf)]\n",
    "print(\"cancer cases: \", clean_can01['pid'].nunique())\n",
    "\n",
    "# healthy\n",
    "clean_hly01 = healthy_df[~healthy_df['Manufacturer'].isin(excl_manuf)]\n",
    "print(\"healthy cases: \", clean_hly01['pid'].nunique())"
   ]
  },
  {
   "cell_type": "code",
   "execution_count": null,
   "metadata": {},
   "outputs": [],
   "source": [
    "for x in dcm.RequestAttributesSequence:\n",
    "    if np.logical_and(x.RegionSpatialFormat > 0, x.RegionDataType == 1):\n",
    "    plt.figure(figsize=(10,10))\n",
    "    img = dcm.pixel_array\n",
    "    plt.imshow(img)\n",
    "    plt.imsave(img, '/media/share/data/thyroid/test.png')"
   ]
  },
  {
   "cell_type": "code",
   "execution_count": null,
   "metadata": {},
   "outputs": [],
   "source": []
  }
 ],
 "metadata": {
  "kernelspec": {
   "display_name": "Python 3",
   "language": "python",
   "name": "python3"
  },
  "language_info": {
   "codemirror_mode": {
    "name": "ipython",
    "version": 3
   },
   "file_extension": ".py",
   "mimetype": "text/x-python",
   "name": "python",
   "nbconvert_exporter": "python",
   "pygments_lexer": "ipython3",
   "version": "3.6.4"
  }
 },
 "nbformat": 4,
 "nbformat_minor": 2
}
