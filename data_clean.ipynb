{
 "cells": [
  {
   "cell_type": "markdown",
   "metadata": {},
   "source": [
    "# DICOM header and EDA for Thyroid Sono"
   ]
  },
  {
   "cell_type": "code",
   "execution_count": null,
   "metadata": {},
   "outputs": [],
   "source": [
    "import os\n",
    "import numpy as np\n",
    "import pandas as pd\n",
    "import matplotlib.pyplot as plt\n",
    "import pydicom\n",
    "\n",
    "%matplotlib inline"
   ]
  },
  {
   "cell_type": "markdown",
   "metadata": {},
   "source": [
    "## Import subject list"
   ]
  },
  {
   "cell_type": "code",
   "execution_count": null,
   "metadata": {},
   "outputs": [],
   "source": [
    "cancer_df = pd.read_csv('/media/share/data/thyroid/subinfo/thyroidc.csv', header=None, names=['id'])\n",
    "healthy_df = pd.read_csv('/media/share/data/thyroid/subinfo/thyroidh.csv', header=None, names=['id'])\n",
    "\n",
    "for idx in [cancer_df, healthy_df]:\n",
    "    pat_id, acc_id = idx['id'].str.split('/').str[0], idx['id'].str.split('/').str[1]\n",
    "    idx['pid'] = pat_id\n",
    "    idx['aid'] = acc_id\n",
    "    idx.drop(['id'], 1, inplace=True)"
   ]
  },
  {
   "cell_type": "markdown",
   "metadata": {},
   "source": [
    "## Read dicom header and extract manufacturer and model name for further EDA"
   ]
  },
  {
   "cell_type": "code",
   "execution_count": null,
   "metadata": {},
   "outputs": [],
   "source": [
    "Manufacturer= []\n",
    "ManufacturerModelName = []\n",
    "\n",
    "rootpath = '/media/share/data/thyroid/thyroid_cancer/'\n",
    "\n",
    "for idx in range(len(cancer_df)):\n",
    "    filename = cancer_df['pid'][idx] + '/' + cancer_df['aid'][idx]\n",
    "    dcm = pydicom.read_file(rootpath + filename)\n",
    "    Manufacturer.append(dcm.Manufacturer)\n",
    "    if hasattr(dcm, 'ManufacturerModelName') is False:\n",
    "        ManufacturerModelName.append(np.nan)\n",
    "    else:\n",
    "        ManufacturerModelName.append(dcm.ManufacturerModelName)\n",
    "        \n",
    "        \n",
    "cancer_df['Manufacturer'] = Manufacturer\n",
    "cancer_df['ManufacturerModelName'] = ManufacturerModelName"
   ]
  },
  {
   "cell_type": "code",
   "execution_count": null,
   "metadata": {},
   "outputs": [],
   "source": [
    "Manufacturer= []\n",
    "ManufacturerModelName = []\n",
    "\n",
    "rootpath = '/media/share/data/thyroid/thyroid_healthy/'\n",
    "\n",
    "for idx in range(len(healthy_df)):\n",
    "    filename = healthy_df['pid'][idx] + '/' + healthy_df['aid'][idx]\n",
    "    dcm = pydicom.read_file(rootpath + filename)\n",
    "    Manufacturer.append(dcm.Manufacturer)\n",
    "    if hasattr(dcm, 'ManufacturerModelName') is False:\n",
    "        ManufacturerModelName.append(np.nan)\n",
    "    else:\n",
    "        ManufacturerModelName.append(dcm.ManufacturerModelName)\n",
    "        \n",
    "        \n",
    "healthy_df['Manufacturer'] = Manufacturer\n",
    "healthy_df['ManufacturerModelName'] = ManufacturerModelName"
   ]
  },
  {
   "cell_type": "markdown",
   "metadata": {},
   "source": [
    "## Save results to csv"
   ]
  },
  {
   "cell_type": "code",
   "execution_count": null,
   "metadata": {},
   "outputs": [],
   "source": [
    "cancer_df.to_csv('/media/share/data/thyroid/subinfo/throidc2.csv', index=False)\n",
    "healthy_df.to_csv('/media/share/data/thyroid/subinfo/throidh2.csv', index=False)"
   ]
  }
 ],
 "metadata": {
  "kernelspec": {
   "display_name": "Python 3",
   "language": "python",
   "name": "python3"
  },
  "language_info": {
   "codemirror_mode": {
    "name": "ipython",
    "version": 3
   },
   "file_extension": ".py",
   "mimetype": "text/x-python",
   "name": "python",
   "nbconvert_exporter": "python",
   "pygments_lexer": "ipython3",
   "version": "3.6.4"
  }
 },
 "nbformat": 4,
 "nbformat_minor": 2
}
